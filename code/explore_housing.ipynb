{
 "cells": [
  {
   "cell_type": "markdown",
   "metadata": {},
   "source": [
    "# Explore Housing Price Data\n",
    "\n",
    "The dataset included in this repository is from [Zillow.com](https://www.zillow.com/research/data/) -- it represents the median price of a 3-bedroom house in every state on a monthly basis since 1996.  \n",
    "\n",
    "We're going to use it to practice getting data from the file, compute averages, look for outliers, and explore.\n",
    "\n",
    "First, we import the data and inspect it"
   ]
  },
  {
   "cell_type": "code",
   "execution_count": null,
   "metadata": {},
   "outputs": [],
   "source": [
    "# This cell imports python modules that make it easier to access the data\n",
    "import pandas as pd\n",
    "import matplotlib.pyplot as plt\n",
    "import numpy as np"
   ]
  },
  {
   "cell_type": "code",
   "execution_count": null,
   "metadata": {},
   "outputs": [],
   "source": [
    "# This cell imports the data file and stores it in the variable df\n",
    "df = pd.read_csv('../data/State_Zhvi_3bedroom.csv', index_col='RegionName')"
   ]
  },
  {
   "cell_type": "markdown",
   "metadata": {},
   "source": [
    "\n",
    "Inspect by printing the names of the data columns and the whole date frame.  You can also inspect this by opening the data file using the file browser to the left.\n"
   ]
  },
  {
   "cell_type": "code",
   "execution_count": null,
   "metadata": {},
   "outputs": [],
   "source": [
    "df.columns"
   ]
  },
  {
   "cell_type": "code",
   "execution_count": null,
   "metadata": {},
   "outputs": [],
   "source": [
    "df"
   ]
  },
  {
   "cell_type": "markdown",
   "metadata": {},
   "source": [
    "# What do we notice?\n",
    "\n",
    "You should see that the file is organized on a monthly basis, with the rows ordered by the population of the state (Wyoming is last, California is first).\n",
    "\n",
    "You should also notice that there are blanks or \"NaN\" values for North Dakota between 1996 and 2005 (NaN stands for \"Not a Number\").  \n",
    "\n",
    "Why?  I don't know for sure, but this presumably means that North Dakota didn't provide data to Zillow for that time period, or they didn't have it.  This is going to be an issue because some of the analysis we will want to do will be confused by the missing entries.\n",
    "\n",
    "People who do data analysis for a living say that they end up spending **a large percentage of their time** dealing with issues like this -- cleaning up and preparing data in a useable format, even before they are able to do any actual analysis.\n",
    "\n",
    "In this case, since it's only the one state with any missing data, we're just going to ignore that entire row, using the following:"
   ]
  },
  {
   "cell_type": "code",
   "execution_count": null,
   "metadata": {},
   "outputs": [],
   "source": [
    "df.dropna(inplace=True)"
   ]
  },
  {
   "cell_type": "markdown",
   "metadata": {},
   "source": [
    "\"dropna\" is a command that \"drops\" the \"na\" values.  the **inplace=True** part does this in a way that stores the result in the same variable as before, so we don't have to make a copy.\n",
    "\n"
   ]
  },
  {
   "cell_type": "code",
   "execution_count": null,
   "metadata": {},
   "outputs": [],
   "source": [
    "months = df.columns[2:]\n",
    "months"
   ]
  },
  {
   "cell_type": "markdown",
   "metadata": {},
   "source": [
    "**months** is now a variable holding all the months in the data table, and you can see that it started in April of 1996 and ended in October of 2018. \n",
    "\n"
   ]
  },
  {
   "cell_type": "markdown",
   "metadata": {},
   "source": [
    "You can now refer to the data in one of two ways, using the month or the state name:"
   ]
  },
  {
   "cell_type": "code",
   "execution_count": null,
   "metadata": {},
   "outputs": [],
   "source": [
    "df.loc['Washington']"
   ]
  },
  {
   "cell_type": "code",
   "execution_count": null,
   "metadata": {},
   "outputs": [],
   "source": [
    "df['2018-10']"
   ]
  },
  {
   "cell_type": "markdown",
   "metadata": {},
   "source": [
    "Or you can use the two methods together to access a specific state in a specific month:"
   ]
  },
  {
   "cell_type": "code",
   "execution_count": null,
   "metadata": {},
   "outputs": [],
   "source": [
    "print('Apr 1996:', df.loc['Washington']['1996-04'])\n",
    "print('Oct 2018:', df.loc['Washington']['2018-10'])"
   ]
  },
  {
   "cell_type": "markdown",
   "metadata": {},
   "source": [
    "# First task\n",
    "\n",
    "Your first task is to calculate the average nationwide price in October of 2018 using the **accumulator** pattern we used for the rainfall problem, which means you need to **initialize a variable** to hold the total of all the home prices during October 2018, then use a **loop** to accumulate the values, and divide by the number of data points to get the average.\n",
    "\n",
    "The cell below is setup with a loop that will access each state in turn -- right now it prints out the state name.  You will need to add some code before the loop to initialize the variables, and some code in the loop to access the home price for every state during the month of October 2018 and add it to the running total:"
   ]
  },
  {
   "cell_type": "code",
   "execution_count": null,
   "metadata": {},
   "outputs": [],
   "source": [
    "# Add some lines before the loop to initialize the accumulator variables\n",
    "\n",
    "for state in df.index:\n",
    "    # add some lines in the loop to access the price during October 2018\n",
    "    # and add it to the running total\n",
    "    print(state)\n",
    "    \n",
    "#add some lines after the loop to compute the average and print it"
   ]
  },
  {
   "cell_type": "markdown",
   "metadata": {},
   "source": [
    "# Second Task\n",
    "\n",
    " * How would you modify or use the code above to compute the national average for a different month?\n",
    " * How would you modify the code above to find the maximum value in a given month? The minimum?\n",
    " * How could you modify or use this code to quickly and easily compute the average price for every month in the data set?\n",
    " * Complete at least one of these tasks and make a markdown cell to explain what you did.\n",
    "\n",
    " "
   ]
  },
  {
   "cell_type": "code",
   "execution_count": null,
   "metadata": {},
   "outputs": [],
   "source": []
  },
  {
   "cell_type": "markdown",
   "metadata": {},
   "source": [
    "# Third Task\n",
    "\n",
    " * Which state changed the most in the 22 years?  The least?\n",
    " * How could you find the median value in a given month?\n",
    " * The most common value?\n",
    " * Is there a way to identify states whose pricing is very different from the national average or trends?\n",
    " * Complete at least the first of these (determine which states changed the most and the least in the 22 years) and explain how you did it.\n"
   ]
  },
  {
   "cell_type": "code",
   "execution_count": null,
   "metadata": {},
   "outputs": [],
   "source": []
  }
 ],
 "metadata": {
  "kernelspec": {
   "display_name": "Python 3",
   "language": "python",
   "name": "python3"
  },
  "language_info": {
   "codemirror_mode": {
    "name": "ipython",
    "version": 3
   },
   "file_extension": ".py",
   "mimetype": "text/x-python",
   "name": "python",
   "nbconvert_exporter": "python",
   "pygments_lexer": "ipython3",
   "version": "3.6.5"
  }
 },
 "nbformat": 4,
 "nbformat_minor": 2
}
